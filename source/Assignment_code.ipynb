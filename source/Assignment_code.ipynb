{
 "cells": [
  {
   "cell_type": "markdown",
   "metadata": {},
   "source": [
    "In the below cell we are imorting panads module and reading data as DataFrame.\n",
    "Then we are droping the rows with null values"
   ]
  },
  {
   "cell_type": "code",
   "execution_count": null,
   "metadata": {},
   "outputs": [],
   "source": [
    "import pandas as pd\n",
    "df=pd.read_csv(\"beer_reviews.csv\")\n",
    "df=df.dropna()"
   ]
  },
  {
   "cell_type": "markdown",
   "metadata": {},
   "source": [
    "Which brewery produces the strongest beers by ABV%?\n",
    "We have grouped the data by \"brewery_name\" and then took the mean of beer_abv and get the brewery name which has highest percentage of beer_abv in mean."
   ]
  },
  {
   "cell_type": "code",
   "execution_count": 46,
   "metadata": {},
   "outputs": [
    {
     "name": "stdout",
     "output_type": "stream",
     "text": [
      "Brewery produces the sytongest beers by ABV% : Schorschbräu\n"
     ]
    }
   ],
   "source": [
    "##   question 1 ##\n",
    "print(\"Brewery produces the sytongest beers by ABV% :\",df.groupby(\"brewery_name\")[\"beer_abv\"].mean().idxmax())"
   ]
  },
  {
   "cell_type": "markdown",
   "metadata": {},
   "source": [
    "If you had to pick 3 beers to recommend using only this data, which would you pick? \n",
    "To recommand the beers, I will select all the beers which got 5 rating in all review_aroma,\n",
    "review_appearance, review_taste, review_palate, review_overall. Then first beer to recommend \n",
    "is with minimum ABV % and Second is with mean ABV% and Third is with maximum ABV%. "
   ]
  },
  {
   "cell_type": "code",
   "execution_count": 47,
   "metadata": {},
   "outputs": [
    {
     "name": "stdout",
     "output_type": "stream",
     "text": [
      "First beer to recommend : Erdinger Weissbier Alkoholfrei\n",
      "Second beer to recommend : Old Rasputin Russian Imperial Stout\n",
      "Third beer to recommend : Sink The Bismarck!\n"
     ]
    }
   ],
   "source": [
    "########### question 2 #########\n",
    "df2=df[(df[\"review_aroma\"]==df[\"review_aroma\"].max()) & (df[\"review_appearance\"]==df[\"review_appearance\"].max())  & (df[\"review_overall\"]==df[\"review_overall\"].max())  & (df[\"review_palate\"]==df[\"review_palate\"].max())  & (df[\"review_taste\"]==df[\"review_taste\"].max())]\n",
    "print(\"First beer to recommend :\",df2[df2[\"beer_abv\"]==df2[\"beer_abv\"].min()].groupby(\"beer_name\")[\"beer_abv\"].count().idxmax())\n",
    "print(\"Second beer to recommend :\",df2[df2[\"beer_abv\"]==round(df2[\"beer_abv\"].mean())].groupby(\"beer_name\")[\"beer_abv\"].count().idxmax())\n",
    "print(\"Third beer to recommend :\",df2[df2[\"beer_abv\"]==df2[\"beer_abv\"].max()].groupby(\"beer_name\")[\"beer_abv\"].count().idxmax())"
   ]
  },
  {
   "cell_type": "markdown",
   "metadata": {},
   "source": [
    "Which of the factors (aroma, taste, appearance, palette) are most important in\n",
    "determining the overall quality of a beer? To check the importance for factors in determining the overall quality of a beer, we apply XGBRegressor model and gives us feature importance.\n",
    "It gives us graph showing importance of factors."
   ]
  },
  {
   "cell_type": "code",
   "execution_count": 48,
   "metadata": {},
   "outputs": [
    {
     "name": "stderr",
     "output_type": "stream",
     "text": [
      "C:\\Users\\hp-pc\\Anaconda3\\lib\\site-packages\\sklearn\\model_selection\\_split.py:2026: FutureWarning: From version 0.21, test_size will always complement train_size unless both are specified.\n",
      "  FutureWarning)\n"
     ]
    },
    {
     "name": "stdout",
     "output_type": "stream",
     "text": [
      "0.6655738482040509\n",
      "0.6647165130717322\n"
     ]
    },
    {
     "data": {
      "text/plain": [
       "<matplotlib.axes._subplots.AxesSubplot at 0x5e27d3e320>"
      ]
     },
     "execution_count": 48,
     "metadata": {},
     "output_type": "execute_result"
    },
    {
     "data": {
      "image/png": "[encoded data removed]",
      "text/plain": [
       "<matplotlib.figure.Figure at 0x5e2c4aa828>"
      ]
     },
     "metadata": {},
     "output_type": "display_data"
    }
   ],
   "source": [
    "###### question 3 ######\n",
    "from xgboost import XGBRegressor\n",
    "from sklearn.model_selection import train_test_split\n",
    "features=[\"review_aroma\",\"review_appearance\",\"review_taste\",\"review_palate\"]\n",
    "train_x, test_x, train_y, test_y = train_test_split(df[features], df[\"review_overall\"],\n",
    "                                                        train_size=.75)\n",
    "trained_model = XGBRegressor(n_estimators=500, n_jobs=-1, learning_rate=0.3)\n",
    "trained_model.fit(train_x, train_y)\n",
    "predictions = trained_model.predict(test_x)\n",
    "print(trained_model.score(train_x,train_y))\n",
    "print(trained_model.score(test_x,test_y))\n",
    "pd.DataFrame(trained_model.feature_importances_, index = train_x.columns, columns=['importance']).sort_values('importance',ascending=False).plot(kind=\"bar\")    "
   ]
  },
  {
   "cell_type": "markdown",
   "metadata": {},
   "source": [
    "Lastly, if I typically enjoy a beer due to its aroma and appearance, which beer style\n",
    "should I try? To suggest a beer style based on aroma and appearance, We have select all observations with maximum rating for aroma and appearance and select the beer style which got maximum number of reviews."
   ]
  },
  {
   "cell_type": "code",
   "execution_count": 50,
   "metadata": {},
   "outputs": [
    {
     "name": "stdout",
     "output_type": "stream",
     "text": [
      "You should try : American Double / Imperial Stout\n"
     ]
    }
   ],
   "source": [
    "####### question 4 #######\n",
    "df4=df[(df[\"review_aroma\"]==df[\"review_aroma\"].max()) & (df[\"review_appearance\"]==df[\"review_appearance\"].max())]\n",
    "print(\"You should try :\",df4.groupby('beer_style')[\"beer_style\"].count().idxmax())"
   ]
  },
  {
   "cell_type": "code",
   "execution_count": null,
   "metadata": {},
   "outputs": [],
   "source": []
  }
 ],
 "metadata": {
  "kernelspec": {
   "display_name": "Python 3",
   "language": "python",
   "name": "python3"
  },
  "language_info": {
   "codemirror_mode": {
    "name": "ipython",
    "version": 3
   },
   "file_extension": ".py",
   "mimetype": "text/x-python",
   "name": "python",
   "nbconvert_exporter": "python",
   "pygments_lexer": "ipython3",
   "version": "3.6.4"
  }
 },
 "nbformat": 4,
 "nbformat_minor": 2
}
